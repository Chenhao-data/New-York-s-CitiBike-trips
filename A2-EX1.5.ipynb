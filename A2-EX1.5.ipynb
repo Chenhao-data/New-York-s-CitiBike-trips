{
 "cells": [
  {
   "cell_type": "markdown",
   "id": "2f4f25bd-4cb3-44b5-95a9-c1ff25040a5a",
   "metadata": {},
   "source": [
    "# Import necessary libraries"
   ]
  },
  {
   "cell_type": "code",
   "execution_count": 1,
   "id": "d8277ba5-5beb-44b9-a875-05a1f691020a",
   "metadata": {},
   "outputs": [],
   "source": [
    "import pandas as pd\n",
    "import os\n",
    "import numpy as np\n",
    "from matplotlib import pyplot as plt\n",
    "from keplergl import KeplerGl\n",
    "from pyproj import CRS"
   ]
  },
  {
   "cell_type": "markdown",
   "id": "122b96c6-bdbb-4d34-a806-e602a3e353fb",
   "metadata": {},
   "source": [
    "# Read Dataset"
   ]
  },
  {
   "cell_type": "code",
   "execution_count": 2,
   "id": "bd674c83-f93c-4aab-9f06-71171f8c5996",
   "metadata": {},
   "outputs": [],
   "source": [
    "folderpath = r\"C:\\Users\\chenh\\z_Careerfoundry\\A2_DataVisal\\Data\\Processed data\""
   ]
  },
  {
   "cell_type": "code",
   "execution_count": 3,
   "id": "bc3ce85e-952d-41f4-8ff7-022e34093509",
   "metadata": {},
   "outputs": [
    {
     "name": "stderr",
     "output_type": "stream",
     "text": [
      "C:\\Users\\chenh\\AppData\\Local\\Temp\\ipykernel_40044\\2453211304.py:1: DtypeWarning: Columns (6,8) have mixed types. Specify dtype option on import or set low_memory=False.\n",
      "  df=pd.read_csv(os.path.join(folderpath, 'NewYorkbike.csv'))\n"
     ]
    }
   ],
   "source": [
    "df=pd.read_csv(os.path.join(folderpath, 'NewYorkbike.csv'))"
   ]
  },
  {
   "cell_type": "code",
   "execution_count": 4,
   "id": "4ae6ef36-3c5a-46cc-ba4c-97a60f1a2772",
   "metadata": {},
   "outputs": [],
   "source": [
    "df.drop(columns = {'Unnamed: 0','_merge'}, inplace = True)"
   ]
  },
  {
   "cell_type": "code",
   "execution_count": 5,
   "id": "b6af6310-a948-463b-a03b-f40280381f5b",
   "metadata": {},
   "outputs": [
    {
     "data": {
      "text/plain": [
       "Index(['ride_id', 'rideable_type', 'started_at', 'ended_at',\n",
       "       'start_station_name', 'start_station_id', 'end_station_name',\n",
       "       'end_station_id', 'start_lat', 'start_lng', 'end_lat', 'end_lng',\n",
       "       'member_casual', 'date', 'avgTemp'],\n",
       "      dtype='object')"
      ]
     },
     "execution_count": 5,
     "metadata": {},
     "output_type": "execute_result"
    }
   ],
   "source": [
    "df.columns"
   ]
  },
  {
   "cell_type": "code",
   "execution_count": 6,
   "id": "3644f74a-e80e-44e5-a8c5-d18f8fe3efda",
   "metadata": {},
   "outputs": [
    {
     "data": {
      "text/html": [
       "<div>\n",
       "<style scoped>\n",
       "    .dataframe tbody tr th:only-of-type {\n",
       "        vertical-align: middle;\n",
       "    }\n",
       "\n",
       "    .dataframe tbody tr th {\n",
       "        vertical-align: top;\n",
       "    }\n",
       "\n",
       "    .dataframe thead th {\n",
       "        text-align: right;\n",
       "    }\n",
       "</style>\n",
       "<table border=\"1\" class=\"dataframe\">\n",
       "  <thead>\n",
       "    <tr style=\"text-align: right;\">\n",
       "      <th></th>\n",
       "      <th>ride_id</th>\n",
       "      <th>rideable_type</th>\n",
       "      <th>started_at</th>\n",
       "      <th>ended_at</th>\n",
       "      <th>start_station_name</th>\n",
       "      <th>start_station_id</th>\n",
       "      <th>end_station_name</th>\n",
       "      <th>end_station_id</th>\n",
       "      <th>start_lat</th>\n",
       "      <th>start_lng</th>\n",
       "      <th>end_lat</th>\n",
       "      <th>end_lng</th>\n",
       "      <th>member_casual</th>\n",
       "      <th>date</th>\n",
       "      <th>avgTemp</th>\n",
       "    </tr>\n",
       "  </thead>\n",
       "  <tbody>\n",
       "    <tr>\n",
       "      <th>0</th>\n",
       "      <td>88237B34DAFDB069</td>\n",
       "      <td>electric_bike</td>\n",
       "      <td>2022-01-01 00:00:13</td>\n",
       "      <td>2022-01-01 00:30:28</td>\n",
       "      <td>Broadway &amp; W 160 St</td>\n",
       "      <td>8157.06</td>\n",
       "      <td>Broadway &amp; W 160 St</td>\n",
       "      <td>8157.06</td>\n",
       "      <td>40.835775</td>\n",
       "      <td>-73.943400</td>\n",
       "      <td>40.835775</td>\n",
       "      <td>-73.943400</td>\n",
       "      <td>casual</td>\n",
       "      <td>2022-01-01</td>\n",
       "      <td>11.6</td>\n",
       "    </tr>\n",
       "    <tr>\n",
       "      <th>1</th>\n",
       "      <td>4545E384F601A7E9</td>\n",
       "      <td>classic_bike</td>\n",
       "      <td>2022-01-01 00:00:32</td>\n",
       "      <td>2022-01-01 00:02:15</td>\n",
       "      <td>Forsyth St &amp; Broome St</td>\n",
       "      <td>5453.05</td>\n",
       "      <td>Forsyth St &amp; Broome St</td>\n",
       "      <td>5453.05</td>\n",
       "      <td>40.718939</td>\n",
       "      <td>-73.992663</td>\n",
       "      <td>40.718939</td>\n",
       "      <td>-73.992663</td>\n",
       "      <td>member</td>\n",
       "      <td>2022-01-01</td>\n",
       "      <td>11.6</td>\n",
       "    </tr>\n",
       "    <tr>\n",
       "      <th>2</th>\n",
       "      <td>7CE9B56332A37463</td>\n",
       "      <td>electric_bike</td>\n",
       "      <td>2022-01-01 00:00:42</td>\n",
       "      <td>2022-01-01 00:11:38</td>\n",
       "      <td>Myrtle Ave &amp; Marcy Ave</td>\n",
       "      <td>4707.03</td>\n",
       "      <td>Willoughby St &amp; Fleet St</td>\n",
       "      <td>4628.05</td>\n",
       "      <td>40.695398</td>\n",
       "      <td>-73.949549</td>\n",
       "      <td>40.691966</td>\n",
       "      <td>-73.981302</td>\n",
       "      <td>member</td>\n",
       "      <td>2022-01-01</td>\n",
       "      <td>11.6</td>\n",
       "    </tr>\n",
       "    <tr>\n",
       "      <th>3</th>\n",
       "      <td>4012D0DCF0DECD64</td>\n",
       "      <td>classic_bike</td>\n",
       "      <td>2022-01-01 00:00:44</td>\n",
       "      <td>2022-01-02 01:00:38</td>\n",
       "      <td>W 43 St &amp; 10 Ave</td>\n",
       "      <td>6756.01</td>\n",
       "      <td>NaN</td>\n",
       "      <td>NaN</td>\n",
       "      <td>40.760094</td>\n",
       "      <td>-73.994618</td>\n",
       "      <td>NaN</td>\n",
       "      <td>NaN</td>\n",
       "      <td>casual</td>\n",
       "      <td>2022-01-01</td>\n",
       "      <td>11.6</td>\n",
       "    </tr>\n",
       "    <tr>\n",
       "      <th>4</th>\n",
       "      <td>AEAF2FFEBB00845B</td>\n",
       "      <td>electric_bike</td>\n",
       "      <td>2022-01-01 00:00:50</td>\n",
       "      <td>2022-01-01 02:39:37</td>\n",
       "      <td>W 15 St &amp; 7 Ave</td>\n",
       "      <td>6030.06</td>\n",
       "      <td>W 33 St &amp; 7 Ave</td>\n",
       "      <td>6407.07</td>\n",
       "      <td>40.739355</td>\n",
       "      <td>-73.999318</td>\n",
       "      <td>40.750200</td>\n",
       "      <td>-73.990931</td>\n",
       "      <td>casual</td>\n",
       "      <td>2022-01-01</td>\n",
       "      <td>11.6</td>\n",
       "    </tr>\n",
       "  </tbody>\n",
       "</table>\n",
       "</div>"
      ],
      "text/plain": [
       "            ride_id  rideable_type           started_at             ended_at  \\\n",
       "0  88237B34DAFDB069  electric_bike  2022-01-01 00:00:13  2022-01-01 00:30:28   \n",
       "1  4545E384F601A7E9   classic_bike  2022-01-01 00:00:32  2022-01-01 00:02:15   \n",
       "2  7CE9B56332A37463  electric_bike  2022-01-01 00:00:42  2022-01-01 00:11:38   \n",
       "3  4012D0DCF0DECD64   classic_bike  2022-01-01 00:00:44  2022-01-02 01:00:38   \n",
       "4  AEAF2FFEBB00845B  electric_bike  2022-01-01 00:00:50  2022-01-01 02:39:37   \n",
       "\n",
       "       start_station_name start_station_id          end_station_name  \\\n",
       "0     Broadway & W 160 St          8157.06       Broadway & W 160 St   \n",
       "1  Forsyth St & Broome St          5453.05    Forsyth St & Broome St   \n",
       "2  Myrtle Ave & Marcy Ave          4707.03  Willoughby St & Fleet St   \n",
       "3        W 43 St & 10 Ave          6756.01                       NaN   \n",
       "4         W 15 St & 7 Ave          6030.06           W 33 St & 7 Ave   \n",
       "\n",
       "  end_station_id  start_lat  start_lng    end_lat    end_lng member_casual  \\\n",
       "0        8157.06  40.835775 -73.943400  40.835775 -73.943400        casual   \n",
       "1        5453.05  40.718939 -73.992663  40.718939 -73.992663        member   \n",
       "2        4628.05  40.695398 -73.949549  40.691966 -73.981302        member   \n",
       "3            NaN  40.760094 -73.994618        NaN        NaN        casual   \n",
       "4        6407.07  40.739355 -73.999318  40.750200 -73.990931        casual   \n",
       "\n",
       "         date  avgTemp  \n",
       "0  2022-01-01     11.6  \n",
       "1  2022-01-01     11.6  \n",
       "2  2022-01-01     11.6  \n",
       "3  2022-01-01     11.6  \n",
       "4  2022-01-01     11.6  "
      ]
     },
     "execution_count": 6,
     "metadata": {},
     "output_type": "execute_result"
    }
   ],
   "source": [
    "df.head()"
   ]
  },
  {
   "cell_type": "code",
   "execution_count": 7,
   "id": "51dc19be-7e23-4562-8630-8f33c0123b53",
   "metadata": {},
   "outputs": [],
   "source": [
    "df['start_lat'] = df['start_lat'].round(3)\n",
    "df['start_lng'] = df['start_lng'].round(3)\n",
    "df['end_lat'] = df['end_lat'].round(3)\n",
    "df['end_lng'] = df['end_lng'].round(3)"
   ]
  },
  {
   "cell_type": "code",
   "execution_count": 8,
   "id": "05af9fed-cb6d-4da7-8fcb-8596c6b9815e",
   "metadata": {},
   "outputs": [
    {
     "data": {
      "text/html": [
       "<div>\n",
       "<style scoped>\n",
       "    .dataframe tbody tr th:only-of-type {\n",
       "        vertical-align: middle;\n",
       "    }\n",
       "\n",
       "    .dataframe tbody tr th {\n",
       "        vertical-align: top;\n",
       "    }\n",
       "\n",
       "    .dataframe thead th {\n",
       "        text-align: right;\n",
       "    }\n",
       "</style>\n",
       "<table border=\"1\" class=\"dataframe\">\n",
       "  <thead>\n",
       "    <tr style=\"text-align: right;\">\n",
       "      <th></th>\n",
       "      <th>ride_id</th>\n",
       "      <th>rideable_type</th>\n",
       "      <th>started_at</th>\n",
       "      <th>ended_at</th>\n",
       "      <th>start_station_name</th>\n",
       "      <th>start_station_id</th>\n",
       "      <th>end_station_name</th>\n",
       "      <th>end_station_id</th>\n",
       "      <th>start_lat</th>\n",
       "      <th>start_lng</th>\n",
       "      <th>end_lat</th>\n",
       "      <th>end_lng</th>\n",
       "      <th>member_casual</th>\n",
       "      <th>date</th>\n",
       "      <th>avgTemp</th>\n",
       "    </tr>\n",
       "  </thead>\n",
       "  <tbody>\n",
       "    <tr>\n",
       "      <th>0</th>\n",
       "      <td>88237B34DAFDB069</td>\n",
       "      <td>electric_bike</td>\n",
       "      <td>2022-01-01 00:00:13</td>\n",
       "      <td>2022-01-01 00:30:28</td>\n",
       "      <td>Broadway &amp; W 160 St</td>\n",
       "      <td>8157.06</td>\n",
       "      <td>Broadway &amp; W 160 St</td>\n",
       "      <td>8157.06</td>\n",
       "      <td>40.836</td>\n",
       "      <td>-73.943</td>\n",
       "      <td>40.836</td>\n",
       "      <td>-73.943</td>\n",
       "      <td>casual</td>\n",
       "      <td>2022-01-01</td>\n",
       "      <td>11.6</td>\n",
       "    </tr>\n",
       "    <tr>\n",
       "      <th>1</th>\n",
       "      <td>4545E384F601A7E9</td>\n",
       "      <td>classic_bike</td>\n",
       "      <td>2022-01-01 00:00:32</td>\n",
       "      <td>2022-01-01 00:02:15</td>\n",
       "      <td>Forsyth St &amp; Broome St</td>\n",
       "      <td>5453.05</td>\n",
       "      <td>Forsyth St &amp; Broome St</td>\n",
       "      <td>5453.05</td>\n",
       "      <td>40.719</td>\n",
       "      <td>-73.993</td>\n",
       "      <td>40.719</td>\n",
       "      <td>-73.993</td>\n",
       "      <td>member</td>\n",
       "      <td>2022-01-01</td>\n",
       "      <td>11.6</td>\n",
       "    </tr>\n",
       "    <tr>\n",
       "      <th>2</th>\n",
       "      <td>7CE9B56332A37463</td>\n",
       "      <td>electric_bike</td>\n",
       "      <td>2022-01-01 00:00:42</td>\n",
       "      <td>2022-01-01 00:11:38</td>\n",
       "      <td>Myrtle Ave &amp; Marcy Ave</td>\n",
       "      <td>4707.03</td>\n",
       "      <td>Willoughby St &amp; Fleet St</td>\n",
       "      <td>4628.05</td>\n",
       "      <td>40.695</td>\n",
       "      <td>-73.950</td>\n",
       "      <td>40.692</td>\n",
       "      <td>-73.981</td>\n",
       "      <td>member</td>\n",
       "      <td>2022-01-01</td>\n",
       "      <td>11.6</td>\n",
       "    </tr>\n",
       "    <tr>\n",
       "      <th>3</th>\n",
       "      <td>4012D0DCF0DECD64</td>\n",
       "      <td>classic_bike</td>\n",
       "      <td>2022-01-01 00:00:44</td>\n",
       "      <td>2022-01-02 01:00:38</td>\n",
       "      <td>W 43 St &amp; 10 Ave</td>\n",
       "      <td>6756.01</td>\n",
       "      <td>NaN</td>\n",
       "      <td>NaN</td>\n",
       "      <td>40.760</td>\n",
       "      <td>-73.995</td>\n",
       "      <td>NaN</td>\n",
       "      <td>NaN</td>\n",
       "      <td>casual</td>\n",
       "      <td>2022-01-01</td>\n",
       "      <td>11.6</td>\n",
       "    </tr>\n",
       "    <tr>\n",
       "      <th>4</th>\n",
       "      <td>AEAF2FFEBB00845B</td>\n",
       "      <td>electric_bike</td>\n",
       "      <td>2022-01-01 00:00:50</td>\n",
       "      <td>2022-01-01 02:39:37</td>\n",
       "      <td>W 15 St &amp; 7 Ave</td>\n",
       "      <td>6030.06</td>\n",
       "      <td>W 33 St &amp; 7 Ave</td>\n",
       "      <td>6407.07</td>\n",
       "      <td>40.739</td>\n",
       "      <td>-73.999</td>\n",
       "      <td>40.750</td>\n",
       "      <td>-73.991</td>\n",
       "      <td>casual</td>\n",
       "      <td>2022-01-01</td>\n",
       "      <td>11.6</td>\n",
       "    </tr>\n",
       "  </tbody>\n",
       "</table>\n",
       "</div>"
      ],
      "text/plain": [
       "            ride_id  rideable_type           started_at             ended_at  \\\n",
       "0  88237B34DAFDB069  electric_bike  2022-01-01 00:00:13  2022-01-01 00:30:28   \n",
       "1  4545E384F601A7E9   classic_bike  2022-01-01 00:00:32  2022-01-01 00:02:15   \n",
       "2  7CE9B56332A37463  electric_bike  2022-01-01 00:00:42  2022-01-01 00:11:38   \n",
       "3  4012D0DCF0DECD64   classic_bike  2022-01-01 00:00:44  2022-01-02 01:00:38   \n",
       "4  AEAF2FFEBB00845B  electric_bike  2022-01-01 00:00:50  2022-01-01 02:39:37   \n",
       "\n",
       "       start_station_name start_station_id          end_station_name  \\\n",
       "0     Broadway & W 160 St          8157.06       Broadway & W 160 St   \n",
       "1  Forsyth St & Broome St          5453.05    Forsyth St & Broome St   \n",
       "2  Myrtle Ave & Marcy Ave          4707.03  Willoughby St & Fleet St   \n",
       "3        W 43 St & 10 Ave          6756.01                       NaN   \n",
       "4         W 15 St & 7 Ave          6030.06           W 33 St & 7 Ave   \n",
       "\n",
       "  end_station_id  start_lat  start_lng  end_lat  end_lng member_casual  \\\n",
       "0        8157.06     40.836    -73.943   40.836  -73.943        casual   \n",
       "1        5453.05     40.719    -73.993   40.719  -73.993        member   \n",
       "2        4628.05     40.695    -73.950   40.692  -73.981        member   \n",
       "3            NaN     40.760    -73.995      NaN      NaN        casual   \n",
       "4        6407.07     40.739    -73.999   40.750  -73.991        casual   \n",
       "\n",
       "         date  avgTemp  \n",
       "0  2022-01-01     11.6  \n",
       "1  2022-01-01     11.6  \n",
       "2  2022-01-01     11.6  \n",
       "3  2022-01-01     11.6  \n",
       "4  2022-01-01     11.6  "
      ]
     },
     "execution_count": 8,
     "metadata": {},
     "output_type": "execute_result"
    }
   ],
   "source": [
    "df.head()"
   ]
  },
  {
   "cell_type": "markdown",
   "id": "e0c084a7-8114-497f-aa10-918ea4830821",
   "metadata": {},
   "source": [
    "# Create a new aggregated dataframe"
   ]
  },
  {
   "cell_type": "code",
   "execution_count": 9,
   "id": "d2f6cb47-0b92-422c-b6df-85902d2d9509",
   "metadata": {},
   "outputs": [],
   "source": [
    "df['value'] = 1\n",
    "df_group = df.groupby(['start_station_name', 'end_station_name','start_lat','start_lng','end_lat','end_lng'])['value'].count().reset_index()"
   ]
  },
  {
   "cell_type": "code",
   "execution_count": 10,
   "id": "e4e78ce4-dd1a-49bb-b279-60585060998c",
   "metadata": {},
   "outputs": [
    {
     "data": {
      "text/html": [
       "<div>\n",
       "<style scoped>\n",
       "    .dataframe tbody tr th:only-of-type {\n",
       "        vertical-align: middle;\n",
       "    }\n",
       "\n",
       "    .dataframe tbody tr th {\n",
       "        vertical-align: top;\n",
       "    }\n",
       "\n",
       "    .dataframe thead th {\n",
       "        text-align: right;\n",
       "    }\n",
       "</style>\n",
       "<table border=\"1\" class=\"dataframe\">\n",
       "  <thead>\n",
       "    <tr style=\"text-align: right;\">\n",
       "      <th></th>\n",
       "      <th>start_station_name</th>\n",
       "      <th>end_station_name</th>\n",
       "      <th>start_lat</th>\n",
       "      <th>start_lng</th>\n",
       "      <th>end_lat</th>\n",
       "      <th>end_lng</th>\n",
       "      <th>value</th>\n",
       "    </tr>\n",
       "  </thead>\n",
       "  <tbody>\n",
       "    <tr>\n",
       "      <th>0</th>\n",
       "      <td>1 Ave &amp; E 110 St</td>\n",
       "      <td>1 Ave &amp; E 110 St</td>\n",
       "      <td>40.792</td>\n",
       "      <td>-73.938</td>\n",
       "      <td>40.792</td>\n",
       "      <td>-73.938</td>\n",
       "      <td>786</td>\n",
       "    </tr>\n",
       "    <tr>\n",
       "      <th>1</th>\n",
       "      <td>1 Ave &amp; E 110 St</td>\n",
       "      <td>1 Ave &amp; E 110 St</td>\n",
       "      <td>40.793</td>\n",
       "      <td>-73.938</td>\n",
       "      <td>40.792</td>\n",
       "      <td>-73.938</td>\n",
       "      <td>5</td>\n",
       "    </tr>\n",
       "    <tr>\n",
       "      <th>2</th>\n",
       "      <td>1 Ave &amp; E 110 St</td>\n",
       "      <td>1 Ave &amp; E 18 St</td>\n",
       "      <td>40.792</td>\n",
       "      <td>-73.938</td>\n",
       "      <td>40.734</td>\n",
       "      <td>-73.981</td>\n",
       "      <td>2</td>\n",
       "    </tr>\n",
       "    <tr>\n",
       "      <th>3</th>\n",
       "      <td>1 Ave &amp; E 110 St</td>\n",
       "      <td>1 Ave &amp; E 30 St</td>\n",
       "      <td>40.792</td>\n",
       "      <td>-73.938</td>\n",
       "      <td>40.741</td>\n",
       "      <td>-73.975</td>\n",
       "      <td>4</td>\n",
       "    </tr>\n",
       "    <tr>\n",
       "      <th>4</th>\n",
       "      <td>1 Ave &amp; E 110 St</td>\n",
       "      <td>1 Ave &amp; E 39 St</td>\n",
       "      <td>40.792</td>\n",
       "      <td>-73.938</td>\n",
       "      <td>40.747</td>\n",
       "      <td>-73.971</td>\n",
       "      <td>1</td>\n",
       "    </tr>\n",
       "  </tbody>\n",
       "</table>\n",
       "</div>"
      ],
      "text/plain": [
       "  start_station_name  end_station_name  start_lat  start_lng  end_lat  \\\n",
       "0   1 Ave & E 110 St  1 Ave & E 110 St     40.792    -73.938   40.792   \n",
       "1   1 Ave & E 110 St  1 Ave & E 110 St     40.793    -73.938   40.792   \n",
       "2   1 Ave & E 110 St   1 Ave & E 18 St     40.792    -73.938   40.734   \n",
       "3   1 Ave & E 110 St   1 Ave & E 30 St     40.792    -73.938   40.741   \n",
       "4   1 Ave & E 110 St   1 Ave & E 39 St     40.792    -73.938   40.747   \n",
       "\n",
       "   end_lng  value  \n",
       "0  -73.938    786  \n",
       "1  -73.938      5  \n",
       "2  -73.981      2  \n",
       "3  -73.975      4  \n",
       "4  -73.971      1  "
      ]
     },
     "execution_count": 10,
     "metadata": {},
     "output_type": "execute_result"
    }
   ],
   "source": [
    "df_group.head()"
   ]
  },
  {
   "cell_type": "code",
   "execution_count": 11,
   "id": "5974792b-db89-48ca-904f-a586d4095db4",
   "metadata": {},
   "outputs": [
    {
     "name": "stdout",
     "output_type": "stream",
     "text": [
      "User Guide: https://docs.kepler.gl/docs/keplergl-jupyter\n"
     ]
    }
   ],
   "source": [
    "m = KeplerGl(height = 700, data={\"data_1\": df_group})"
   ]
  },
  {
   "cell_type": "code",
   "execution_count": 12,
   "id": "f4ca93cd-25e7-4028-897f-63ca01265460",
   "metadata": {
    "tags": []
   },
   "outputs": [
    {
     "data": {
      "application/vnd.jupyter.widget-view+json": {
       "model_id": "5cccd53f8391478683032cc8409f94ca",
       "version_major": 2,
       "version_minor": 0
      },
      "text/plain": [
       "KeplerGl(data={'data_1':             start_station_name       end_station_name  start_lat  start_lng  \\\n",
       "0     …"
      ]
     },
     "metadata": {},
     "output_type": "display_data"
    }
   ],
   "source": [
    "m"
   ]
  },
  {
   "cell_type": "markdown",
   "id": "71b3376d-1033-4e9f-a854-9fe32532607b",
   "metadata": {
    "tags": []
   },
   "source": [
    "# Customize the output of your map"
   ]
  },
  {
   "cell_type": "markdown",
   "id": "f9e90bef-c3a5-497f-b680-5c7a945115c4",
   "metadata": {},
   "source": [
    "1.I set both the starting and ending points to solid colors for clearer display."
   ]
  },
  {
   "cell_type": "markdown",
   "id": "81b589ff-b89d-4d06-ac2a-284af7f9a9d2",
   "metadata": {},
   "source": [
    "2.Additionally, I set the starting point to red and the ending point to yellow, creating more contrast and making it easier to distinguish between the two. "
   ]
  },
  {
   "cell_type": "markdown",
   "id": "f008ae54-8cc1-4cef-8bba-0c701187a3ab",
   "metadata": {},
   "source": [
    "3.Finally, I connected the starting and ending points with a line that transitions from red to yellow, which not only shows the specific route but also indicates the direction of travel."
   ]
  },
  {
   "cell_type": "markdown",
   "id": "38c9472f-d33a-41a6-80d7-8957417de25a",
   "metadata": {},
   "source": [
    "# Add a filter to your map and use it to see what the most common trips "
   ]
  },
  {
   "cell_type": "markdown",
   "id": "e5b505c8-0b96-4b70-80d4-67262794d5cd",
   "metadata": {},
   "source": [
    "Observations show that popular cycling areas in New York City include:\n"
   ]
  },
  {
   "cell_type": "markdown",
   "id": "cfa65ed7-1a98-4402-9bc4-76d28653faed",
   "metadata": {},
   "source": [
    "1.Central Park area"
   ]
  },
  {
   "cell_type": "markdown",
   "id": "d9d473ff-4c44-4781-b414-2543a37879f2",
   "metadata": {},
   "source": [
    "2.Times Square area"
   ]
  },
  {
   "cell_type": "markdown",
   "id": "f8aa0790-8cb4-47b8-bd19-ca13a196df96",
   "metadata": {},
   "source": [
    "3.Chelsea area"
   ]
  },
  {
   "cell_type": "markdown",
   "id": "0ffccf6e-d4bd-4402-8f7a-bec0423d9164",
   "metadata": {},
   "source": [
    "4.Koreatown area"
   ]
  },
  {
   "cell_type": "markdown",
   "id": "46b05a4d-dd9a-471e-824c-00a290cbea28",
   "metadata": {},
   "source": [
    "5.West Riverfront area"
   ]
  },
  {
   "cell_type": "code",
   "execution_count": 14,
   "id": "d559efa7-447a-4577-82e0-ccb24fb83c1d",
   "metadata": {},
   "outputs": [],
   "source": [
    "config = m.config"
   ]
  },
  {
   "cell_type": "code",
   "execution_count": 15,
   "id": "00d7c734-d7fc-4813-80bf-1854572d56f4",
   "metadata": {},
   "outputs": [],
   "source": [
    "import json\n",
    "with open(\"config.json\", \"w\") as outfile:\n",
    "    json.dump(config, outfile)"
   ]
  },
  {
   "cell_type": "code",
   "execution_count": 16,
   "id": "06818255-fd74-4967-9e8c-4dd2297000d0",
   "metadata": {},
   "outputs": [
    {
     "name": "stdout",
     "output_type": "stream",
     "text": [
      "Map saved to NewYork Bike Trips Aggregated.html!\n"
     ]
    }
   ],
   "source": [
    "m.save_to_html(file_name = 'NewYork Bike Trips Aggregated.html', read_only = False, config = config)"
   ]
  },
  {
   "cell_type": "code",
   "execution_count": null,
   "id": "029fcfba-afe6-47fa-a634-057179f6ff1d",
   "metadata": {},
   "outputs": [],
   "source": []
  }
 ],
 "metadata": {
  "kernelspec": {
   "display_name": "Python [conda env:20th_century]",
   "language": "python",
   "name": "conda-env-20th_century-py"
  },
  "language_info": {
   "codemirror_mode": {
    "name": "ipython",
    "version": 3
   },
   "file_extension": ".py",
   "mimetype": "text/x-python",
   "name": "python",
   "nbconvert_exporter": "python",
   "pygments_lexer": "ipython3",
   "version": "3.12.4"
  }
 },
 "nbformat": 4,
 "nbformat_minor": 5
}
