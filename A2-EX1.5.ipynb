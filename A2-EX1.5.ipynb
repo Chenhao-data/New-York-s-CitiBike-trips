{
 "cells": [
  {
   "cell_type": "markdown",
   "id": "2f4f25bd-4cb3-44b5-95a9-c1ff25040a5a",
   "metadata": {},
   "source": [
    "# Import necessary libraries"
   ]
  },
  {
   "cell_type": "code",
   "execution_count": 1,
   "id": "d8277ba5-5beb-44b9-a875-05a1f691020a",
   "metadata": {},
   "outputs": [],
   "source": [
    "import pandas as pd\n",
    "import os\n",
    "import numpy as np\n",
    "from matplotlib import pyplot as plt\n",
    "from keplergl import KeplerGl\n",
    "from pyproj import CRS"
   ]
  },
  {
   "cell_type": "markdown",
   "id": "122b96c6-bdbb-4d34-a806-e602a3e353fb",
   "metadata": {},
   "source": [
    "# Read Dataset"
   ]
  },
  {
   "cell_type": "code",
   "execution_count": 2,
   "id": "bd674c83-f93c-4aab-9f06-71171f8c5996",
   "metadata": {},
   "outputs": [],
   "source": [
    "folderpath = r\"C:\\Users\\chenh\\z_Careerfoundry\\A2_DataVisal\\Data\\Processed data\""
   ]
  },
  {
   "cell_type": "code",
   "execution_count": 3,
   "id": "bc3ce85e-952d-41f4-8ff7-022e34093509",
   "metadata": {},
   "outputs": [
    {
     "name": "stderr",
     "output_type": "stream",
     "text": [
      "C:\\Users\\chenh\\AppData\\Local\\Temp\\ipykernel_12960\\2453211304.py:1: DtypeWarning: Columns (6,8) have mixed types. Specify dtype option on import or set low_memory=False.\n",
      "  df=pd.read_csv(os.path.join(folderpath, 'NewYorkbike.csv'))\n"
     ]
    }
   ],
   "source": [
    "df=pd.read_csv(os.path.join(folderpath, 'NewYorkbike.csv'))"
   ]
  },
  {
   "cell_type": "code",
   "execution_count": 4,
   "id": "4ae6ef36-3c5a-46cc-ba4c-97a60f1a2772",
   "metadata": {},
   "outputs": [],
   "source": [
    "df.drop(columns = {'Unnamed: 0','_merge'}, inplace = True)"
   ]
  },
  {
   "cell_type": "code",
   "execution_count": 5,
   "id": "b6af6310-a948-463b-a03b-f40280381f5b",
   "metadata": {},
   "outputs": [
    {
     "data": {
      "text/plain": [
       "Index(['ride_id', 'rideable_type', 'started_at', 'ended_at',\n",
       "       'start_station_name', 'start_station_id', 'end_station_name',\n",
       "       'end_station_id', 'start_lat', 'start_lng', 'end_lat', 'end_lng',\n",
       "       'member_casual', 'date', 'avgTemp'],\n",
       "      dtype='object')"
      ]
     },
     "execution_count": 5,
     "metadata": {},
     "output_type": "execute_result"
    }
   ],
   "source": [
    "df.columns"
   ]
  },
  {
   "cell_type": "code",
   "execution_count": 6,
   "id": "3644f74a-e80e-44e5-a8c5-d18f8fe3efda",
   "metadata": {},
   "outputs": [
    {
     "data": {
      "text/html": [
       "<div>\n",
       "<style scoped>\n",
       "    .dataframe tbody tr th:only-of-type {\n",
       "        vertical-align: middle;\n",
       "    }\n",
       "\n",
       "    .dataframe tbody tr th {\n",
       "        vertical-align: top;\n",
       "    }\n",
       "\n",
       "    .dataframe thead th {\n",
       "        text-align: right;\n",
       "    }\n",
       "</style>\n",
       "<table border=\"1\" class=\"dataframe\">\n",
       "  <thead>\n",
       "    <tr style=\"text-align: right;\">\n",
       "      <th></th>\n",
       "      <th>ride_id</th>\n",
       "      <th>rideable_type</th>\n",
       "      <th>started_at</th>\n",
       "      <th>ended_at</th>\n",
       "      <th>start_station_name</th>\n",
       "      <th>start_station_id</th>\n",
       "      <th>end_station_name</th>\n",
       "      <th>end_station_id</th>\n",
       "      <th>start_lat</th>\n",
       "      <th>start_lng</th>\n",
       "      <th>end_lat</th>\n",
       "      <th>end_lng</th>\n",
       "      <th>member_casual</th>\n",
       "      <th>date</th>\n",
       "      <th>avgTemp</th>\n",
       "    </tr>\n",
       "  </thead>\n",
       "  <tbody>\n",
       "    <tr>\n",
       "      <th>0</th>\n",
       "      <td>88237B34DAFDB069</td>\n",
       "      <td>electric_bike</td>\n",
       "      <td>2022-01-01 00:00:13</td>\n",
       "      <td>2022-01-01 00:30:28</td>\n",
       "      <td>Broadway &amp; W 160 St</td>\n",
       "      <td>8157.06</td>\n",
       "      <td>Broadway &amp; W 160 St</td>\n",
       "      <td>8157.06</td>\n",
       "      <td>40.835775</td>\n",
       "      <td>-73.943400</td>\n",
       "      <td>40.835775</td>\n",
       "      <td>-73.943400</td>\n",
       "      <td>casual</td>\n",
       "      <td>2022-01-01</td>\n",
       "      <td>11.6</td>\n",
       "    </tr>\n",
       "    <tr>\n",
       "      <th>1</th>\n",
       "      <td>4545E384F601A7E9</td>\n",
       "      <td>classic_bike</td>\n",
       "      <td>2022-01-01 00:00:32</td>\n",
       "      <td>2022-01-01 00:02:15</td>\n",
       "      <td>Forsyth St &amp; Broome St</td>\n",
       "      <td>5453.05</td>\n",
       "      <td>Forsyth St &amp; Broome St</td>\n",
       "      <td>5453.05</td>\n",
       "      <td>40.718939</td>\n",
       "      <td>-73.992663</td>\n",
       "      <td>40.718939</td>\n",
       "      <td>-73.992663</td>\n",
       "      <td>member</td>\n",
       "      <td>2022-01-01</td>\n",
       "      <td>11.6</td>\n",
       "    </tr>\n",
       "    <tr>\n",
       "      <th>2</th>\n",
       "      <td>7CE9B56332A37463</td>\n",
       "      <td>electric_bike</td>\n",
       "      <td>2022-01-01 00:00:42</td>\n",
       "      <td>2022-01-01 00:11:38</td>\n",
       "      <td>Myrtle Ave &amp; Marcy Ave</td>\n",
       "      <td>4707.03</td>\n",
       "      <td>Willoughby St &amp; Fleet St</td>\n",
       "      <td>4628.05</td>\n",
       "      <td>40.695398</td>\n",
       "      <td>-73.949549</td>\n",
       "      <td>40.691966</td>\n",
       "      <td>-73.981302</td>\n",
       "      <td>member</td>\n",
       "      <td>2022-01-01</td>\n",
       "      <td>11.6</td>\n",
       "    </tr>\n",
       "    <tr>\n",
       "      <th>3</th>\n",
       "      <td>4012D0DCF0DECD64</td>\n",
       "      <td>classic_bike</td>\n",
       "      <td>2022-01-01 00:00:44</td>\n",
       "      <td>2022-01-02 01:00:38</td>\n",
       "      <td>W 43 St &amp; 10 Ave</td>\n",
       "      <td>6756.01</td>\n",
       "      <td>NaN</td>\n",
       "      <td>NaN</td>\n",
       "      <td>40.760094</td>\n",
       "      <td>-73.994618</td>\n",
       "      <td>NaN</td>\n",
       "      <td>NaN</td>\n",
       "      <td>casual</td>\n",
       "      <td>2022-01-01</td>\n",
       "      <td>11.6</td>\n",
       "    </tr>\n",
       "    <tr>\n",
       "      <th>4</th>\n",
       "      <td>AEAF2FFEBB00845B</td>\n",
       "      <td>electric_bike</td>\n",
       "      <td>2022-01-01 00:00:50</td>\n",
       "      <td>2022-01-01 02:39:37</td>\n",
       "      <td>W 15 St &amp; 7 Ave</td>\n",
       "      <td>6030.06</td>\n",
       "      <td>W 33 St &amp; 7 Ave</td>\n",
       "      <td>6407.07</td>\n",
       "      <td>40.739355</td>\n",
       "      <td>-73.999318</td>\n",
       "      <td>40.750200</td>\n",
       "      <td>-73.990931</td>\n",
       "      <td>casual</td>\n",
       "      <td>2022-01-01</td>\n",
       "      <td>11.6</td>\n",
       "    </tr>\n",
       "  </tbody>\n",
       "</table>\n",
       "</div>"
      ],
      "text/plain": [
       "            ride_id  rideable_type           started_at             ended_at  \\\n",
       "0  88237B34DAFDB069  electric_bike  2022-01-01 00:00:13  2022-01-01 00:30:28   \n",
       "1  4545E384F601A7E9   classic_bike  2022-01-01 00:00:32  2022-01-01 00:02:15   \n",
       "2  7CE9B56332A37463  electric_bike  2022-01-01 00:00:42  2022-01-01 00:11:38   \n",
       "3  4012D0DCF0DECD64   classic_bike  2022-01-01 00:00:44  2022-01-02 01:00:38   \n",
       "4  AEAF2FFEBB00845B  electric_bike  2022-01-01 00:00:50  2022-01-01 02:39:37   \n",
       "\n",
       "       start_station_name start_station_id          end_station_name  \\\n",
       "0     Broadway & W 160 St          8157.06       Broadway & W 160 St   \n",
       "1  Forsyth St & Broome St          5453.05    Forsyth St & Broome St   \n",
       "2  Myrtle Ave & Marcy Ave          4707.03  Willoughby St & Fleet St   \n",
       "3        W 43 St & 10 Ave          6756.01                       NaN   \n",
       "4         W 15 St & 7 Ave          6030.06           W 33 St & 7 Ave   \n",
       "\n",
       "  end_station_id  start_lat  start_lng    end_lat    end_lng member_casual  \\\n",
       "0        8157.06  40.835775 -73.943400  40.835775 -73.943400        casual   \n",
       "1        5453.05  40.718939 -73.992663  40.718939 -73.992663        member   \n",
       "2        4628.05  40.695398 -73.949549  40.691966 -73.981302        member   \n",
       "3            NaN  40.760094 -73.994618        NaN        NaN        casual   \n",
       "4        6407.07  40.739355 -73.999318  40.750200 -73.990931        casual   \n",
       "\n",
       "         date  avgTemp  \n",
       "0  2022-01-01     11.6  \n",
       "1  2022-01-01     11.6  \n",
       "2  2022-01-01     11.6  \n",
       "3  2022-01-01     11.6  \n",
       "4  2022-01-01     11.6  "
      ]
     },
     "execution_count": 6,
     "metadata": {},
     "output_type": "execute_result"
    }
   ],
   "source": [
    "df.head()"
   ]
  },
  {
   "cell_type": "markdown",
   "id": "e0c084a7-8114-497f-aa10-918ea4830821",
   "metadata": {},
   "source": [
    "# Create a new aggregated dataframe"
   ]
  },
  {
   "cell_type": "code",
   "execution_count": 7,
   "id": "d2f6cb47-0b92-422c-b6df-85902d2d9509",
   "metadata": {},
   "outputs": [],
   "source": [
    "df['value'] = 1"
   ]
  },
  {
   "cell_type": "code",
   "execution_count": 8,
   "id": "e24ba933-b095-4807-8cf8-57fe53baf268",
   "metadata": {},
   "outputs": [],
   "source": [
    "df_group = df.groupby(\n",
    "    ['start_station_name', 'end_station_name'], as_index=False\n",
    ").agg({\n",
    "    'start_lat': 'mean',\n",
    "    'start_lng': 'mean',\n",
    "    'end_lat': 'mean',\n",
    "    'end_lng': 'mean',\n",
    "    'value': 'sum'\n",
    "})"
   ]
  },
  {
   "cell_type": "code",
   "execution_count": 9,
   "id": "e4e78ce4-dd1a-49bb-b279-60585060998c",
   "metadata": {},
   "outputs": [
    {
     "data": {
      "text/html": [
       "<div>\n",
       "<style scoped>\n",
       "    .dataframe tbody tr th:only-of-type {\n",
       "        vertical-align: middle;\n",
       "    }\n",
       "\n",
       "    .dataframe tbody tr th {\n",
       "        vertical-align: top;\n",
       "    }\n",
       "\n",
       "    .dataframe thead th {\n",
       "        text-align: right;\n",
       "    }\n",
       "</style>\n",
       "<table border=\"1\" class=\"dataframe\">\n",
       "  <thead>\n",
       "    <tr style=\"text-align: right;\">\n",
       "      <th></th>\n",
       "      <th>start_station_name</th>\n",
       "      <th>end_station_name</th>\n",
       "      <th>start_lat</th>\n",
       "      <th>start_lng</th>\n",
       "      <th>end_lat</th>\n",
       "      <th>end_lng</th>\n",
       "      <th>value</th>\n",
       "    </tr>\n",
       "  </thead>\n",
       "  <tbody>\n",
       "    <tr>\n",
       "      <th>0</th>\n",
       "      <td>1 Ave &amp; E 110 St</td>\n",
       "      <td>1 Ave &amp; E 110 St</td>\n",
       "      <td>40.792335</td>\n",
       "      <td>-73.938280</td>\n",
       "      <td>40.792327</td>\n",
       "      <td>-73.938300</td>\n",
       "      <td>791</td>\n",
       "    </tr>\n",
       "    <tr>\n",
       "      <th>1</th>\n",
       "      <td>1 Ave &amp; E 110 St</td>\n",
       "      <td>1 Ave &amp; E 18 St</td>\n",
       "      <td>40.792327</td>\n",
       "      <td>-73.938300</td>\n",
       "      <td>40.733812</td>\n",
       "      <td>-73.980544</td>\n",
       "      <td>2</td>\n",
       "    </tr>\n",
       "    <tr>\n",
       "      <th>2</th>\n",
       "      <td>1 Ave &amp; E 110 St</td>\n",
       "      <td>1 Ave &amp; E 30 St</td>\n",
       "      <td>40.792344</td>\n",
       "      <td>-73.938282</td>\n",
       "      <td>40.741444</td>\n",
       "      <td>-73.975361</td>\n",
       "      <td>4</td>\n",
       "    </tr>\n",
       "    <tr>\n",
       "      <th>3</th>\n",
       "      <td>1 Ave &amp; E 110 St</td>\n",
       "      <td>1 Ave &amp; E 39 St</td>\n",
       "      <td>40.792327</td>\n",
       "      <td>-73.938300</td>\n",
       "      <td>40.747140</td>\n",
       "      <td>-73.971130</td>\n",
       "      <td>1</td>\n",
       "    </tr>\n",
       "    <tr>\n",
       "      <th>4</th>\n",
       "      <td>1 Ave &amp; E 110 St</td>\n",
       "      <td>1 Ave &amp; E 44 St</td>\n",
       "      <td>40.792336</td>\n",
       "      <td>-73.938301</td>\n",
       "      <td>40.750020</td>\n",
       "      <td>-73.969053</td>\n",
       "      <td>12</td>\n",
       "    </tr>\n",
       "  </tbody>\n",
       "</table>\n",
       "</div>"
      ],
      "text/plain": [
       "  start_station_name  end_station_name  start_lat  start_lng    end_lat  \\\n",
       "0   1 Ave & E 110 St  1 Ave & E 110 St  40.792335 -73.938280  40.792327   \n",
       "1   1 Ave & E 110 St   1 Ave & E 18 St  40.792327 -73.938300  40.733812   \n",
       "2   1 Ave & E 110 St   1 Ave & E 30 St  40.792344 -73.938282  40.741444   \n",
       "3   1 Ave & E 110 St   1 Ave & E 39 St  40.792327 -73.938300  40.747140   \n",
       "4   1 Ave & E 110 St   1 Ave & E 44 St  40.792336 -73.938301  40.750020   \n",
       "\n",
       "     end_lng  value  \n",
       "0 -73.938300    791  \n",
       "1 -73.980544      2  \n",
       "2 -73.975361      4  \n",
       "3 -73.971130      1  \n",
       "4 -73.969053     12  "
      ]
     },
     "execution_count": 9,
     "metadata": {},
     "output_type": "execute_result"
    }
   ],
   "source": [
    "df_group.head()"
   ]
  },
  {
   "cell_type": "code",
   "execution_count": 10,
   "id": "6aeabe81-b150-4e92-af88-1e29c15c0ab4",
   "metadata": {},
   "outputs": [],
   "source": [
    "top_20 = df_group.nlargest(20, 'value')"
   ]
  },
  {
   "cell_type": "code",
   "execution_count": 11,
   "id": "73723613-53de-4af7-9065-464f73d62f7e",
   "metadata": {
    "collapsed": true,
    "jupyter": {
     "outputs_hidden": true
    },
    "tags": []
   },
   "outputs": [
    {
     "data": {
      "text/html": [
       "<div>\n",
       "<style scoped>\n",
       "    .dataframe tbody tr th:only-of-type {\n",
       "        vertical-align: middle;\n",
       "    }\n",
       "\n",
       "    .dataframe tbody tr th {\n",
       "        vertical-align: top;\n",
       "    }\n",
       "\n",
       "    .dataframe thead th {\n",
       "        text-align: right;\n",
       "    }\n",
       "</style>\n",
       "<table border=\"1\" class=\"dataframe\">\n",
       "  <thead>\n",
       "    <tr style=\"text-align: right;\">\n",
       "      <th></th>\n",
       "      <th>start_station_name</th>\n",
       "      <th>end_station_name</th>\n",
       "      <th>start_lat</th>\n",
       "      <th>start_lng</th>\n",
       "      <th>end_lat</th>\n",
       "      <th>end_lng</th>\n",
       "      <th>value</th>\n",
       "    </tr>\n",
       "  </thead>\n",
       "  <tbody>\n",
       "    <tr>\n",
       "      <th>294971</th>\n",
       "      <td>Central Park S &amp; 6 Ave</td>\n",
       "      <td>Central Park S &amp; 6 Ave</td>\n",
       "      <td>40.765913</td>\n",
       "      <td>-73.976346</td>\n",
       "      <td>40.765909</td>\n",
       "      <td>-73.976342</td>\n",
       "      <td>12041</td>\n",
       "    </tr>\n",
       "    <tr>\n",
       "      <th>147754</th>\n",
       "      <td>7 Ave &amp; Central Park South</td>\n",
       "      <td>7 Ave &amp; Central Park South</td>\n",
       "      <td>40.766733</td>\n",
       "      <td>-73.979084</td>\n",
       "      <td>40.766741</td>\n",
       "      <td>-73.979069</td>\n",
       "      <td>8541</td>\n",
       "    </tr>\n",
       "    <tr>\n",
       "      <th>782289</th>\n",
       "      <td>Roosevelt Island Tramway</td>\n",
       "      <td>Roosevelt Island Tramway</td>\n",
       "      <td>40.757282</td>\n",
       "      <td>-73.953597</td>\n",
       "      <td>40.757284</td>\n",
       "      <td>-73.953600</td>\n",
       "      <td>8213</td>\n",
       "    </tr>\n",
       "    <tr>\n",
       "      <th>548187</th>\n",
       "      <td>Grand Army Plaza &amp; Central Park S</td>\n",
       "      <td>Grand Army Plaza &amp; Central Park S</td>\n",
       "      <td>40.764393</td>\n",
       "      <td>-73.973730</td>\n",
       "      <td>40.764397</td>\n",
       "      <td>-73.973715</td>\n",
       "      <td>7287</td>\n",
       "    </tr>\n",
       "    <tr>\n",
       "      <th>800503</th>\n",
       "      <td>Soissons Landing</td>\n",
       "      <td>Soissons Landing</td>\n",
       "      <td>40.692320</td>\n",
       "      <td>-74.014865</td>\n",
       "      <td>40.692317</td>\n",
       "      <td>-74.014866</td>\n",
       "      <td>7275</td>\n",
       "    </tr>\n",
       "    <tr>\n",
       "      <th>896940</th>\n",
       "      <td>W 21 St &amp; 6 Ave</td>\n",
       "      <td>9 Ave &amp; W 22 St</td>\n",
       "      <td>40.741742</td>\n",
       "      <td>-73.994150</td>\n",
       "      <td>40.745497</td>\n",
       "      <td>-74.001971</td>\n",
       "      <td>6345</td>\n",
       "    </tr>\n",
       "    <tr>\n",
       "      <th>119316</th>\n",
       "      <td>5 Ave &amp; E 72 St</td>\n",
       "      <td>5 Ave &amp; E 72 St</td>\n",
       "      <td>40.772824</td>\n",
       "      <td>-73.966858</td>\n",
       "      <td>40.772828</td>\n",
       "      <td>-73.966853</td>\n",
       "      <td>6037</td>\n",
       "    </tr>\n",
       "    <tr>\n",
       "      <th>6539</th>\n",
       "      <td>1 Ave &amp; E 62 St</td>\n",
       "      <td>1 Ave &amp; E 68 St</td>\n",
       "      <td>40.761223</td>\n",
       "      <td>-73.960939</td>\n",
       "      <td>40.765005</td>\n",
       "      <td>-73.958185</td>\n",
       "      <td>5826</td>\n",
       "    </tr>\n",
       "    <tr>\n",
       "      <th>1013396</th>\n",
       "      <td>Yankee Ferry Terminal</td>\n",
       "      <td>Yankee Ferry Terminal</td>\n",
       "      <td>40.687067</td>\n",
       "      <td>-74.016754</td>\n",
       "      <td>40.687066</td>\n",
       "      <td>-74.016756</td>\n",
       "      <td>5759</td>\n",
       "    </tr>\n",
       "    <tr>\n",
       "      <th>255085</th>\n",
       "      <td>Broadway &amp; W 58 St</td>\n",
       "      <td>Broadway &amp; W 58 St</td>\n",
       "      <td>40.766935</td>\n",
       "      <td>-73.981715</td>\n",
       "      <td>40.766953</td>\n",
       "      <td>-73.981693</td>\n",
       "      <td>5509</td>\n",
       "    </tr>\n",
       "    <tr>\n",
       "      <th>21419</th>\n",
       "      <td>12 Ave &amp; W 40 St</td>\n",
       "      <td>12 Ave &amp; W 40 St</td>\n",
       "      <td>40.760877</td>\n",
       "      <td>-74.002781</td>\n",
       "      <td>40.760875</td>\n",
       "      <td>-74.002777</td>\n",
       "      <td>5409</td>\n",
       "    </tr>\n",
       "    <tr>\n",
       "      <th>250493</th>\n",
       "      <td>Broadway &amp; W 41 St</td>\n",
       "      <td>Broadway &amp; W 41 St</td>\n",
       "      <td>40.755153</td>\n",
       "      <td>-73.986662</td>\n",
       "      <td>40.755136</td>\n",
       "      <td>-73.986580</td>\n",
       "      <td>5316</td>\n",
       "    </tr>\n",
       "    <tr>\n",
       "      <th>299315</th>\n",
       "      <td>Central Park West &amp; W 72 St</td>\n",
       "      <td>Central Park West &amp; W 72 St</td>\n",
       "      <td>40.775799</td>\n",
       "      <td>-73.976190</td>\n",
       "      <td>40.775794</td>\n",
       "      <td>-73.976206</td>\n",
       "      <td>5262</td>\n",
       "    </tr>\n",
       "    <tr>\n",
       "      <th>722609</th>\n",
       "      <td>Norfolk St &amp; Broome St</td>\n",
       "      <td>Henry St &amp; Grand St</td>\n",
       "      <td>40.717222</td>\n",
       "      <td>-73.988013</td>\n",
       "      <td>40.714211</td>\n",
       "      <td>-73.981095</td>\n",
       "      <td>4883</td>\n",
       "    </tr>\n",
       "    <tr>\n",
       "      <th>990802</th>\n",
       "      <td>West St &amp; Chambers St</td>\n",
       "      <td>West St &amp; Chambers St</td>\n",
       "      <td>40.717555</td>\n",
       "      <td>-74.013217</td>\n",
       "      <td>40.717548</td>\n",
       "      <td>-74.013221</td>\n",
       "      <td>4768</td>\n",
       "    </tr>\n",
       "    <tr>\n",
       "      <th>986487</th>\n",
       "      <td>West Drive &amp; Prospect Park West</td>\n",
       "      <td>West Drive &amp; Prospect Park West</td>\n",
       "      <td>40.661076</td>\n",
       "      <td>-73.979429</td>\n",
       "      <td>40.661063</td>\n",
       "      <td>-73.979453</td>\n",
       "      <td>4643</td>\n",
       "    </tr>\n",
       "    <tr>\n",
       "      <th>990533</th>\n",
       "      <td>West St &amp; Chambers St</td>\n",
       "      <td>Pier 40 - Hudson River Park</td>\n",
       "      <td>40.717553</td>\n",
       "      <td>-74.013219</td>\n",
       "      <td>40.727714</td>\n",
       "      <td>-74.011296</td>\n",
       "      <td>4584</td>\n",
       "    </tr>\n",
       "    <tr>\n",
       "      <th>121085</th>\n",
       "      <td>5 Ave &amp; E 87 St</td>\n",
       "      <td>5 Ave &amp; E 87 St</td>\n",
       "      <td>40.782326</td>\n",
       "      <td>-73.959866</td>\n",
       "      <td>40.782323</td>\n",
       "      <td>-73.959875</td>\n",
       "      <td>4571</td>\n",
       "    </tr>\n",
       "    <tr>\n",
       "      <th>1013380</th>\n",
       "      <td>Yankee Ferry Terminal</td>\n",
       "      <td>Soissons Landing</td>\n",
       "      <td>40.687067</td>\n",
       "      <td>-74.016754</td>\n",
       "      <td>40.692317</td>\n",
       "      <td>-74.014866</td>\n",
       "      <td>4556</td>\n",
       "    </tr>\n",
       "    <tr>\n",
       "      <th>724267</th>\n",
       "      <td>North Moore St &amp; Greenwich St</td>\n",
       "      <td>Vesey St &amp; Church St</td>\n",
       "      <td>40.720196</td>\n",
       "      <td>-74.010302</td>\n",
       "      <td>40.712220</td>\n",
       "      <td>-74.010472</td>\n",
       "      <td>4523</td>\n",
       "    </tr>\n",
       "  </tbody>\n",
       "</table>\n",
       "</div>"
      ],
      "text/plain": [
       "                        start_station_name                   end_station_name  \\\n",
       "294971              Central Park S & 6 Ave             Central Park S & 6 Ave   \n",
       "147754          7 Ave & Central Park South         7 Ave & Central Park South   \n",
       "782289            Roosevelt Island Tramway           Roosevelt Island Tramway   \n",
       "548187   Grand Army Plaza & Central Park S  Grand Army Plaza & Central Park S   \n",
       "800503                    Soissons Landing                   Soissons Landing   \n",
       "896940                     W 21 St & 6 Ave                    9 Ave & W 22 St   \n",
       "119316                     5 Ave & E 72 St                    5 Ave & E 72 St   \n",
       "6539                       1 Ave & E 62 St                    1 Ave & E 68 St   \n",
       "1013396              Yankee Ferry Terminal              Yankee Ferry Terminal   \n",
       "255085                  Broadway & W 58 St                 Broadway & W 58 St   \n",
       "21419                     12 Ave & W 40 St                   12 Ave & W 40 St   \n",
       "250493                  Broadway & W 41 St                 Broadway & W 41 St   \n",
       "299315         Central Park West & W 72 St        Central Park West & W 72 St   \n",
       "722609              Norfolk St & Broome St                Henry St & Grand St   \n",
       "990802               West St & Chambers St              West St & Chambers St   \n",
       "986487     West Drive & Prospect Park West    West Drive & Prospect Park West   \n",
       "990533               West St & Chambers St        Pier 40 - Hudson River Park   \n",
       "121085                     5 Ave & E 87 St                    5 Ave & E 87 St   \n",
       "1013380              Yankee Ferry Terminal                   Soissons Landing   \n",
       "724267       North Moore St & Greenwich St               Vesey St & Church St   \n",
       "\n",
       "         start_lat  start_lng    end_lat    end_lng  value  \n",
       "294971   40.765913 -73.976346  40.765909 -73.976342  12041  \n",
       "147754   40.766733 -73.979084  40.766741 -73.979069   8541  \n",
       "782289   40.757282 -73.953597  40.757284 -73.953600   8213  \n",
       "548187   40.764393 -73.973730  40.764397 -73.973715   7287  \n",
       "800503   40.692320 -74.014865  40.692317 -74.014866   7275  \n",
       "896940   40.741742 -73.994150  40.745497 -74.001971   6345  \n",
       "119316   40.772824 -73.966858  40.772828 -73.966853   6037  \n",
       "6539     40.761223 -73.960939  40.765005 -73.958185   5826  \n",
       "1013396  40.687067 -74.016754  40.687066 -74.016756   5759  \n",
       "255085   40.766935 -73.981715  40.766953 -73.981693   5509  \n",
       "21419    40.760877 -74.002781  40.760875 -74.002777   5409  \n",
       "250493   40.755153 -73.986662  40.755136 -73.986580   5316  \n",
       "299315   40.775799 -73.976190  40.775794 -73.976206   5262  \n",
       "722609   40.717222 -73.988013  40.714211 -73.981095   4883  \n",
       "990802   40.717555 -74.013217  40.717548 -74.013221   4768  \n",
       "986487   40.661076 -73.979429  40.661063 -73.979453   4643  \n",
       "990533   40.717553 -74.013219  40.727714 -74.011296   4584  \n",
       "121085   40.782326 -73.959866  40.782323 -73.959875   4571  \n",
       "1013380  40.687067 -74.016754  40.692317 -74.014866   4556  \n",
       "724267   40.720196 -74.010302  40.712220 -74.010472   4523  "
      ]
     },
     "execution_count": 11,
     "metadata": {},
     "output_type": "execute_result"
    }
   ],
   "source": [
    "top_20"
   ]
  },
  {
   "cell_type": "code",
   "execution_count": 12,
   "id": "5974792b-db89-48ca-904f-a586d4095db4",
   "metadata": {},
   "outputs": [
    {
     "name": "stdout",
     "output_type": "stream",
     "text": [
      "User Guide: https://docs.kepler.gl/docs/keplergl-jupyter\n"
     ]
    },
    {
     "data": {
      "application/vnd.jupyter.widget-view+json": {
       "model_id": "6bec35c4cc4e4ef2bda236fa8fe07c19",
       "version_major": 2,
       "version_minor": 0
      },
      "text/plain": [
       "KeplerGl(data={'data_1':             start_station_name       end_station_name  start_lat  start_lng  \\\n",
       "0     …"
      ]
     },
     "metadata": {},
     "output_type": "display_data"
    }
   ],
   "source": [
    "m = KeplerGl(height = 700, data={\"data_1\": df_group})\n",
    "m"
   ]
  },
  {
   "cell_type": "markdown",
   "id": "71b3376d-1033-4e9f-a854-9fe32532607b",
   "metadata": {
    "tags": []
   },
   "source": [
    "# Customize the output of your map"
   ]
  },
  {
   "cell_type": "markdown",
   "id": "f9e90bef-c3a5-497f-b680-5c7a945115c4",
   "metadata": {},
   "source": [
    "1.I set both the starting and ending points to solid colors for clearer display."
   ]
  },
  {
   "cell_type": "markdown",
   "id": "81b589ff-b89d-4d06-ac2a-284af7f9a9d2",
   "metadata": {},
   "source": [
    "2.Additionally, I set the starting point to red and the ending point to yellow, creating more contrast and making it easier to distinguish between the two. "
   ]
  },
  {
   "cell_type": "markdown",
   "id": "f008ae54-8cc1-4cef-8bba-0c701187a3ab",
   "metadata": {},
   "source": [
    "3.Finally, I connected the starting and ending points with a line that transitions from red to yellow, which not only shows the specific route but also indicates the direction of travel."
   ]
  },
  {
   "cell_type": "markdown",
   "id": "38c9472f-d33a-41a6-80d7-8957417de25a",
   "metadata": {},
   "source": [
    "# Add a filter to your map and use it to see what the most common trips "
   ]
  },
  {
   "cell_type": "markdown",
   "id": "e5b505c8-0b96-4b70-80d4-67262794d5cd",
   "metadata": {},
   "source": [
    "Observations show that popular cycling areas in New York City include:\n"
   ]
  },
  {
   "cell_type": "markdown",
   "id": "cfa65ed7-1a98-4402-9bc4-76d28653faed",
   "metadata": {},
   "source": [
    "1.Central Park area"
   ]
  },
  {
   "cell_type": "markdown",
   "id": "d9d473ff-4c44-4781-b414-2543a37879f2",
   "metadata": {},
   "source": [
    "2.Times Square area"
   ]
  },
  {
   "cell_type": "markdown",
   "id": "f8aa0790-8cb4-47b8-bd19-ca13a196df96",
   "metadata": {},
   "source": [
    "3.Chelsea area"
   ]
  },
  {
   "cell_type": "markdown",
   "id": "0ffccf6e-d4bd-4402-8f7a-bec0423d9164",
   "metadata": {},
   "source": [
    "4.Koreatown area"
   ]
  },
  {
   "cell_type": "markdown",
   "id": "46b05a4d-dd9a-471e-824c-00a290cbea28",
   "metadata": {},
   "source": [
    "5.West Riverfront area"
   ]
  },
  {
   "cell_type": "code",
   "execution_count": 13,
   "id": "d559efa7-447a-4577-82e0-ccb24fb83c1d",
   "metadata": {},
   "outputs": [],
   "source": [
    "config = m.config"
   ]
  },
  {
   "cell_type": "code",
   "execution_count": 14,
   "id": "00d7c734-d7fc-4813-80bf-1854572d56f4",
   "metadata": {},
   "outputs": [],
   "source": [
    "import json\n",
    "with open(\"config.json\", \"w\") as outfile:\n",
    "    json.dump(config, outfile)"
   ]
  },
  {
   "cell_type": "code",
   "execution_count": 15,
   "id": "06818255-fd74-4967-9e8c-4dd2297000d0",
   "metadata": {},
   "outputs": [
    {
     "name": "stdout",
     "output_type": "stream",
     "text": [
      "Map saved to NewYork Bike Trips Aggregated_r.html!\n"
     ]
    }
   ],
   "source": [
    "m.save_to_html(file_name = 'NewYork Bike Trips Aggregated_r.html', read_only = False, config = config)"
   ]
  },
  {
   "cell_type": "markdown",
   "id": "1ea1fd1f-2abd-4319-956e-9c6a990975b2",
   "metadata": {},
   "source": [
    "# Top20 Map"
   ]
  },
  {
   "cell_type": "code",
   "execution_count": 16,
   "id": "458a9118-f69d-4138-a1f8-14362c417e82",
   "metadata": {},
   "outputs": [
    {
     "name": "stdout",
     "output_type": "stream",
     "text": [
      "User Guide: https://docs.kepler.gl/docs/keplergl-jupyter\n"
     ]
    },
    {
     "data": {
      "application/vnd.jupyter.widget-view+json": {
       "model_id": "b630d5832f6d4dc59f9eb0c1ec133744",
       "version_major": 2,
       "version_minor": 0
      },
      "text/plain": [
       "KeplerGl(data={'data_1':                         start_station_name                   end_station_name  \\\n",
       "2949…"
      ]
     },
     "metadata": {},
     "output_type": "display_data"
    }
   ],
   "source": [
    "m20 = KeplerGl(height = 700, data={\"data_1\": top_20})\n",
    "m20"
   ]
  },
  {
   "cell_type": "code",
   "execution_count": 17,
   "id": "17997b5d-821c-4c73-93fb-04052eabe981",
   "metadata": {},
   "outputs": [],
   "source": [
    "config_20 = m20.config"
   ]
  },
  {
   "cell_type": "code",
   "execution_count": 18,
   "id": "253a76ed-ccb4-4cf5-aa7b-bb31e0db284c",
   "metadata": {},
   "outputs": [],
   "source": [
    "import json\n",
    "with open(\"config.json\", \"w\") as outfile:\n",
    "    json.dump(config_20, outfile)"
   ]
  },
  {
   "cell_type": "code",
   "execution_count": 19,
   "id": "385ecb39-bd28-4255-9318-86e72d982775",
   "metadata": {},
   "outputs": [
    {
     "name": "stdout",
     "output_type": "stream",
     "text": [
      "Map saved to NewYork Bike Trips TOP20 Aggregated.html!\n"
     ]
    }
   ],
   "source": [
    "m20.save_to_html(file_name = 'NewYork Bike Trips TOP20 Aggregated.html', read_only = False, config = config_20)"
   ]
  },
  {
   "cell_type": "code",
   "execution_count": null,
   "id": "d7c30965-e195-4911-8b60-4646dfa30470",
   "metadata": {},
   "outputs": [],
   "source": []
  }
 ],
 "metadata": {
  "kernelspec": {
   "display_name": "Python 3 (ipykernel)",
   "language": "python",
   "name": "python3"
  },
  "language_info": {
   "codemirror_mode": {
    "name": "ipython",
    "version": 3
   },
   "file_extension": ".py",
   "mimetype": "text/x-python",
   "name": "python",
   "nbconvert_exporter": "python",
   "pygments_lexer": "ipython3",
   "version": "3.12.4"
  }
 },
 "nbformat": 4,
 "nbformat_minor": 5
}
